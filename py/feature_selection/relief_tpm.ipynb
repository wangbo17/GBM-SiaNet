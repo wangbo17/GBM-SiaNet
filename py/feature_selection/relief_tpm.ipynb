{
 "cells": [
  {
   "cell_type": "code",
   "execution_count": null,
   "metadata": {},
   "outputs": [],
   "source": [
    "import numpy as np\n",
    "import pandas as pd\n",
    "from skrebate import ReliefF"
   ]
  },
  {
   "cell_type": "code",
   "execution_count": null,
   "metadata": {},
   "outputs": [],
   "source": [
    "train = pd.read_csv('inputs/tpm_train.csv', index_col = 0)\n",
    "label_train = pd.read_csv('inputs/label_train.csv')\n",
    "X_train, y_train = train.values, label_train['label'].values"
   ]
  },
  {
   "cell_type": "code",
   "execution_count": null,
   "metadata": {},
   "outputs": [],
   "source": [
    "reliefF = ReliefF()\n",
    "\n",
    "reliefF.fit(X_train, y_train)\n",
    "\n",
    "feature_scores = reliefF.feature_importances_"
   ]
  },
  {
   "cell_type": "code",
   "execution_count": null,
   "metadata": {},
   "outputs": [],
   "source": [
    "selected_features = np.argsort(feature_scores)[::-1]\n",
    "feature_names = train.columns.values\n",
    "feature_names = feature_names[selected_features]\n",
    "feature_scores = feature_scores[selected_features]\n",
    "\n",
    "features_relief = pd.DataFrame({\n",
    "    'Feature': feature_names,\n",
    "    'Importance': feature_scores\n",
    "})\n",
    "features_relief.to_csv('inputs/relief_features_tpm.csv', index=False)"
   ]
  }
 ],
 "metadata": {
  "kernelspec": {
   "display_name": "py_3.9",
   "language": "python",
   "name": "python3"
  },
  "language_info": {
   "codemirror_mode": {
    "name": "ipython",
    "version": 3
   },
   "file_extension": ".py",
   "mimetype": "text/x-python",
   "name": "python",
   "nbconvert_exporter": "python",
   "pygments_lexer": "ipython3",
   "version": "3.10.14"
  }
 },
 "nbformat": 4,
 "nbformat_minor": 2
}
