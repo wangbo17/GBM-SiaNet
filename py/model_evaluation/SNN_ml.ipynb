{
 "cells": [
  {
   "cell_type": "code",
   "execution_count": 26,
   "metadata": {},
   "outputs": [],
   "source": [
    "import os\n",
    "import random\n",
    "import pandas as pd\n",
    "import numpy as np\n",
    "import tensorflow as tf\n",
    "import matplotlib.pyplot as plt\n",
    "from tensorflow.keras import Model\n",
    "from sklearn.metrics import accuracy_score, confusion_matrix, classification_report, roc_auc_score, precision_recall_curve, roc_curve, auc, f1_score, precision_score, recall_score\n",
    "from sklearn.linear_model import LogisticRegression\n",
    "from sklearn.ensemble import RandomForestClassifier\n",
    "from sklearn.svm import SVC"
   ]
  },
  {
   "cell_type": "code",
   "execution_count": 27,
   "metadata": {},
   "outputs": [],
   "source": [
    "# 设置随机种子\n",
    "SEED = 17\n",
    "def set_seed(seed=SEED):\n",
    "    random.seed(seed)\n",
    "    os.environ['TF_DETERMINISTIC_OPS'] = '1'\n",
    "    os.environ['PYTHONHASHSEED'] = str(seed)\n",
    "    np.random.seed(seed)\n",
    "    tf.keras.utils.set_random_seed(seed)\n",
    "    tf.config.experimental.enable_op_determinism()\n",
    "\n",
    "set_seed(SEED)\n",
    "\n",
    "# 设置环境变量来抑制警告信息\n",
    "os.environ['TF_CPP_MIN_LOG_LEVEL'] = '2'\n",
    "tf.get_logger().setLevel('ERROR')"
   ]
  },
  {
   "cell_type": "code",
   "execution_count": 28,
   "metadata": {},
   "outputs": [],
   "source": [
    "# 加载数据集\n",
    "train_data = pd.read_csv('inputs/tpm_train.csv', index_col=0)\n",
    "train_labels_df = pd.read_csv('inputs/label_train.csv')\n",
    "test_data = pd.read_csv('inputs/tpm_test.csv', index_col=0)\n",
    "test_labels_df = pd.read_csv('inputs/label_test.csv')\n",
    "\n",
    "# 选择特征\n",
    "selected_features = pd.read_csv(\"inputs/selected_features_tpm_300.csv\", header=None).iloc[1:, 0].tolist()\n",
    "X_train = train_data[selected_features]\n",
    "X_test = test_data[selected_features]\n",
    "\n",
    "# 合并标签\n",
    "train_labels_df.set_index('sample', inplace=True)\n",
    "test_labels_df.set_index('sample', inplace=True)\n",
    "\n",
    "# 合并数据集\n",
    "train_data = X_train.join(train_labels_df[['label', 'subject', 'batch']])\n",
    "test_data = X_test.join(test_labels_df[['label', 'subject', 'batch']])\n",
    "\n",
    "# 提取特征和标签\n",
    "X_train = train_data[selected_features]\n",
    "X_test = test_data[selected_features]\n",
    "y_train = train_data['label'].values\n",
    "y_test = test_data['label'].values"
   ]
  },
  {
   "cell_type": "code",
   "execution_count": 29,
   "metadata": {},
   "outputs": [],
   "source": [
    "# 定义记录结果的函数\n",
    "def calculate_metrics(y_true, y_pred, y_proba):\n",
    "    accuracy = accuracy_score(y_true, y_pred)\n",
    "    sensitivity = recall_score(y_true, y_pred)\n",
    "    specificity = recall_score(y_true, y_pred, pos_label=0)\n",
    "    auroc = roc_auc_score(y_true, y_proba)\n",
    "    precision = precision_score(y_true, y_pred)\n",
    "    f1 = f1_score(y_true, y_pred)\n",
    "    precision_vals, recall_vals, _ = precision_recall_curve(y_true, y_proba)\n",
    "    auprc = auc(recall_vals, precision_vals)\n",
    "    return [accuracy, sensitivity, specificity, auroc, precision, f1, auprc]"
   ]
  },
  {
   "cell_type": "code",
   "execution_count": 30,
   "metadata": {},
   "outputs": [],
   "source": [
    "# 训练和评估逻辑回归模型\n",
    "best_params_lr = {'C': 10000, 'penalty': 'l1', 'solver': 'liblinear'}\n",
    "lr_model = LogisticRegression(**best_params_lr)\n",
    "lr_model.fit(X_train, y_train)\n",
    "lr_predictions = lr_model.predict(X_test)\n",
    "lr_proba = lr_model.predict_proba(X_test)[:, 1]\n",
    "lr_metrics = calculate_metrics(y_test, lr_predictions, lr_proba)\n",
    "\n",
    "# 训练和评估随机森林模型\n",
    "best_params_rf = {'n_estimators': 100, 'max_depth': None, 'min_samples_split': 2, 'min_samples_leaf': 2, 'max_features': 'sqrt'}\n",
    "rf_model = RandomForestClassifier(**best_params_rf, random_state=SEED)\n",
    "rf_model.fit(X_train, y_train)\n",
    "rf_predictions = rf_model.predict(X_test)\n",
    "rf_proba = rf_model.predict_proba(X_test)[:, 1]\n",
    "rf_metrics = calculate_metrics(y_test, rf_predictions, rf_proba)\n",
    "\n",
    "# 训练和评估支持向量机模型\n",
    "best_params_svm = {'C': 10, 'gamma': 'scale', 'kernel': 'rbf'}\n",
    "svm_model = SVC(**best_params_svm, probability=True, random_state=SEED)\n",
    "svm_model.fit(X_train, y_train)\n",
    "svm_predictions = svm_model.predict(X_test)\n",
    "svm_proba = svm_model.predict_proba(X_test)[:, 1]\n",
    "svm_metrics = calculate_metrics(y_test, svm_predictions, svm_proba)"
   ]
  },
  {
   "cell_type": "code",
   "execution_count": 31,
   "metadata": {},
   "outputs": [],
   "source": [
    "# 定义距离计算和损失函数\n",
    "def euclidean_distance_squared(vectors):\n",
    "    x, y = vectors\n",
    "    return tf.reduce_sum(tf.square(x - y), axis=1, keepdims=True)\n",
    "\n",
    "# 定义 Soft Triplet Loss 函数\n",
    "def soft_triplet_loss(margin):\n",
    "    def loss(y_true, y_pred):\n",
    "        positive_distance = y_pred[:, 0]\n",
    "        negative_distance = y_pred[:, 1]\n",
    "        return tf.reduce_mean(tf.nn.softplus(positive_distance - negative_distance + margin))\n",
    "    return loss\n",
    "\n",
    "# 加载最佳孪生网络模型\n",
    "best_siamese_model = tf.keras.models.load_model('best_siamese_model.keras', custom_objects={'soft_triplet_loss': soft_triplet_loss, 'euclidean_distance_squared': euclidean_distance_squared})\n",
    "\n",
    "# 获取base_network模型\n",
    "base_network = best_siamese_model.get_layer(best_siamese_model.layers[3].name)\n",
    "\n",
    "# 提取特征表示及标签\n",
    "feature_extractor = Model(inputs=base_network.input, outputs=base_network.output)\n",
    "train_features = feature_extractor.predict(X_train, verbose=0)\n",
    "test_features = feature_extractor.predict(X_test, verbose=0)\n",
    "\n",
    "# 创建一个新的模型，将特征提取和分类器结合\n",
    "class CombinedModel:\n",
    "    def __init__(self, feature_extractor, classifier):\n",
    "        self.feature_extractor = feature_extractor\n",
    "        self.classifier = classifier\n",
    "    \n",
    "    def predict(self, data):\n",
    "        features = self.feature_extractor.predict(data)\n",
    "        return self.classifier.predict(features)\n",
    "    \n",
    "    def predict_proba(self, data):\n",
    "        features = self.feature_extractor.predict(data)\n",
    "        proba = self.classifier.predict_proba(features)\n",
    "        return proba[:, 1]"
   ]
  },
  {
   "cell_type": "code",
   "execution_count": 32,
   "metadata": {},
   "outputs": [
    {
     "name": "stdout",
     "output_type": "stream",
     "text": [
      "\u001b[1m2/2\u001b[0m \u001b[32m━━━━━━━━━━━━━━━━━━━━\u001b[0m\u001b[37m\u001b[0m \u001b[1m0s\u001b[0m 2ms/step \n"
     ]
    },
    {
     "name": "stdout",
     "output_type": "stream",
     "text": [
      "\u001b[1m2/2\u001b[0m \u001b[32m━━━━━━━━━━━━━━━━━━━━\u001b[0m\u001b[37m\u001b[0m \u001b[1m0s\u001b[0m 2ms/step \n",
      "\u001b[1m2/2\u001b[0m \u001b[32m━━━━━━━━━━━━━━━━━━━━\u001b[0m\u001b[37m\u001b[0m \u001b[1m0s\u001b[0m 2ms/step \n",
      "\u001b[1m2/2\u001b[0m \u001b[32m━━━━━━━━━━━━━━━━━━━━\u001b[0m\u001b[37m\u001b[0m \u001b[1m0s\u001b[0m 2ms/step \n",
      "\u001b[1m2/2\u001b[0m \u001b[32m━━━━━━━━━━━━━━━━━━━━\u001b[0m\u001b[37m\u001b[0m \u001b[1m0s\u001b[0m 2ms/step \n",
      "\u001b[1m2/2\u001b[0m \u001b[32m━━━━━━━━━━━━━━━━━━━━\u001b[0m\u001b[37m\u001b[0m \u001b[1m0s\u001b[0m 2ms/step \n"
     ]
    }
   ],
   "source": [
    "# 训练和评估孪生网络特征提取与逻辑回归结合的模型\n",
    "best_params_lr = {'C': 10000, 'penalty': 'l1', 'solver': 'liblinear'}\n",
    "lr_model = LogisticRegression(**best_params_lr)\n",
    "lr_model.fit(train_features, y_train)\n",
    "combined_lr_model = CombinedModel(feature_extractor, lr_model)\n",
    "lr_combined_predictions = combined_lr_model.predict(X_test)\n",
    "lr_combined_proba = combined_lr_model.predict_proba(X_test)\n",
    "lr_combined_metrics = calculate_metrics(y_test, lr_combined_predictions, lr_combined_proba)\n",
    "\n",
    "# 训练和评估孪生网络特征提取与随机森林结合的模型\n",
    "best_params_rf = {'n_estimators': 100, 'max_depth': None, 'min_samples_split': 2, 'min_samples_leaf': 2, 'max_features': 'sqrt'}\n",
    "rf_model = RandomForestClassifier(**best_params_rf, random_state=SEED)\n",
    "rf_model.fit(train_features, y_train)\n",
    "combined_rf_model = CombinedModel(feature_extractor, rf_model)\n",
    "rf_combined_predictions = combined_rf_model.predict(X_test)\n",
    "rf_combined_proba = combined_rf_model.predict_proba(X_test)\n",
    "rf_combined_metrics = calculate_metrics(y_test, rf_combined_predictions, rf_combined_proba)\n",
    "\n",
    "# 训练和评估孪生网络特征提取与支持向量机结合的模型\n",
    "best_params_svm = {'C': 10, 'gamma': 'scale', 'kernel': 'rbf'}\n",
    "svm_model = SVC(**best_params_svm, probability=True, random_state=SEED)\n",
    "svm_model.fit(train_features, y_train)\n",
    "combined_svm_model = CombinedModel(feature_extractor, svm_model)\n",
    "svm_combined_predictions = combined_svm_model.predict(X_test)\n",
    "svm_combined_proba = combined_svm_model.predict_proba(X_test)\n",
    "svm_combined_metrics = calculate_metrics(y_test, svm_combined_predictions, svm_combined_proba)"
   ]
  },
  {
   "cell_type": "code",
   "execution_count": 33,
   "metadata": {},
   "outputs": [
    {
     "name": "stdout",
     "output_type": "stream",
     "text": [
      "         Accuracy  Sensitivity  Specificity   AUROC  Precision  F1 Score  \\\n",
      "LR           0.68         0.76         0.60  0.7616   0.655172  0.703704   \n",
      "RF           0.76         0.84         0.68  0.8448   0.724138  0.777778   \n",
      "SVM          0.86         0.88         0.84  0.9264   0.846154  0.862745   \n",
      "SNN-LR       0.90         0.92         0.88  0.8960   0.884615  0.901961   \n",
      "SNN-RF       0.86         0.88         0.84  0.8896   0.846154  0.862745   \n",
      "SNN-SVM      0.88         0.92         0.84  0.8784   0.851852  0.884615   \n",
      "\n",
      "            AUPRC  \n",
      "LR       0.797487  \n",
      "RF       0.803837  \n",
      "SVM      0.907588  \n",
      "SNN-LR   0.903456  \n",
      "SNN-RF   0.887951  \n",
      "SNN-SVM  0.855238  \n"
     ]
    }
   ],
   "source": [
    "# 创建数据框\n",
    "model_metrics = {\n",
    "    'LR': lr_metrics,\n",
    "    'RF': rf_metrics,\n",
    "    'SVM': svm_metrics,\n",
    "    'SNN-LR': lr_combined_metrics,\n",
    "    'SNN-RF': rf_combined_metrics,\n",
    "    'SNN-SVM': svm_combined_metrics\n",
    "}\n",
    "\n",
    "metrics_df = pd.DataFrame.from_dict(model_metrics, orient='index', columns=['Accuracy', 'Sensitivity', 'Specificity', 'AUROC', 'Precision', 'F1 Score', 'AUPRC'])\n",
    "print(metrics_df)"
   ]
  }
 ],
 "metadata": {
  "kernelspec": {
   "display_name": "myenv",
   "language": "python",
   "name": "python3"
  },
  "language_info": {
   "codemirror_mode": {
    "name": "ipython",
    "version": 3
   },
   "file_extension": ".py",
   "mimetype": "text/x-python",
   "name": "python",
   "nbconvert_exporter": "python",
   "pygments_lexer": "ipython3",
   "version": "3.10.14"
  }
 },
 "nbformat": 4,
 "nbformat_minor": 2
}
